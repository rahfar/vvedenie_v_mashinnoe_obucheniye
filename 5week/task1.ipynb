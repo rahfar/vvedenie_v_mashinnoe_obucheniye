{
 "cells": [
  {
   "cell_type": "code",
   "execution_count": 1,
   "metadata": {},
   "outputs": [
    {
     "name": "stderr",
     "output_type": "stream",
     "text": [
      "c:\\program files (x86)\\python37-32\\lib\\site-packages\\sklearn\\ensemble\\weight_boosting.py:29: DeprecationWarning: numpy.core.umath_tests is an internal NumPy module and should not be imported. It will be removed in a future NumPy release.\n",
      "  from numpy.core.umath_tests import inner1d\n",
      "c:\\program files (x86)\\python37-32\\lib\\site-packages\\sklearn\\cross_validation.py:41: DeprecationWarning: This module was deprecated in version 0.18 in favor of the model_selection module into which all the refactored classes and functions are moved. Also note that the interface of the new CV iterators are different from that of this module. This module will be removed in 0.20.\n",
      "  \"This module will be removed in 0.20.\", DeprecationWarning)\n"
     ]
    }
   ],
   "source": [
    "import pandas as pd\n",
    "import numpy as np\n",
    "from sklearn.ensemble import RandomForestRegressor\n",
    "from sklearn.metrics import r2_score\n",
    "from sklearn.cross_validation import KFold\n",
    "from sklearn.model_selection import cross_val_score"
   ]
  },
  {
   "cell_type": "code",
   "execution_count": 2,
   "metadata": {},
   "outputs": [],
   "source": [
    "data = pd.read_csv('abalone.csv')"
   ]
  },
  {
   "cell_type": "code",
   "execution_count": 3,
   "metadata": {
    "scrolled": true
   },
   "outputs": [
    {
     "data": {
      "text/html": [
       "<div>\n",
       "<style scoped>\n",
       "    .dataframe tbody tr th:only-of-type {\n",
       "        vertical-align: middle;\n",
       "    }\n",
       "\n",
       "    .dataframe tbody tr th {\n",
       "        vertical-align: top;\n",
       "    }\n",
       "\n",
       "    .dataframe thead th {\n",
       "        text-align: right;\n",
       "    }\n",
       "</style>\n",
       "<table border=\"1\" class=\"dataframe\">\n",
       "  <thead>\n",
       "    <tr style=\"text-align: right;\">\n",
       "      <th></th>\n",
       "      <th>Sex</th>\n",
       "      <th>Length</th>\n",
       "      <th>Diameter</th>\n",
       "      <th>Height</th>\n",
       "      <th>WholeWeight</th>\n",
       "      <th>ShuckedWeight</th>\n",
       "      <th>VisceraWeight</th>\n",
       "      <th>ShellWeight</th>\n",
       "      <th>Rings</th>\n",
       "    </tr>\n",
       "  </thead>\n",
       "  <tbody>\n",
       "    <tr>\n",
       "      <th>0</th>\n",
       "      <td>M</td>\n",
       "      <td>0.455</td>\n",
       "      <td>0.365</td>\n",
       "      <td>0.095</td>\n",
       "      <td>0.5140</td>\n",
       "      <td>0.2245</td>\n",
       "      <td>0.1010</td>\n",
       "      <td>0.150</td>\n",
       "      <td>15</td>\n",
       "    </tr>\n",
       "    <tr>\n",
       "      <th>1</th>\n",
       "      <td>M</td>\n",
       "      <td>0.350</td>\n",
       "      <td>0.265</td>\n",
       "      <td>0.090</td>\n",
       "      <td>0.2255</td>\n",
       "      <td>0.0995</td>\n",
       "      <td>0.0485</td>\n",
       "      <td>0.070</td>\n",
       "      <td>7</td>\n",
       "    </tr>\n",
       "    <tr>\n",
       "      <th>2</th>\n",
       "      <td>F</td>\n",
       "      <td>0.530</td>\n",
       "      <td>0.420</td>\n",
       "      <td>0.135</td>\n",
       "      <td>0.6770</td>\n",
       "      <td>0.2565</td>\n",
       "      <td>0.1415</td>\n",
       "      <td>0.210</td>\n",
       "      <td>9</td>\n",
       "    </tr>\n",
       "    <tr>\n",
       "      <th>3</th>\n",
       "      <td>M</td>\n",
       "      <td>0.440</td>\n",
       "      <td>0.365</td>\n",
       "      <td>0.125</td>\n",
       "      <td>0.5160</td>\n",
       "      <td>0.2155</td>\n",
       "      <td>0.1140</td>\n",
       "      <td>0.155</td>\n",
       "      <td>10</td>\n",
       "    </tr>\n",
       "    <tr>\n",
       "      <th>4</th>\n",
       "      <td>I</td>\n",
       "      <td>0.330</td>\n",
       "      <td>0.255</td>\n",
       "      <td>0.080</td>\n",
       "      <td>0.2050</td>\n",
       "      <td>0.0895</td>\n",
       "      <td>0.0395</td>\n",
       "      <td>0.055</td>\n",
       "      <td>7</td>\n",
       "    </tr>\n",
       "  </tbody>\n",
       "</table>\n",
       "</div>"
      ],
      "text/plain": [
       "  Sex  Length  Diameter  Height  WholeWeight  ShuckedWeight  VisceraWeight  \\\n",
       "0   M   0.455     0.365   0.095       0.5140         0.2245         0.1010   \n",
       "1   M   0.350     0.265   0.090       0.2255         0.0995         0.0485   \n",
       "2   F   0.530     0.420   0.135       0.6770         0.2565         0.1415   \n",
       "3   M   0.440     0.365   0.125       0.5160         0.2155         0.1140   \n",
       "4   I   0.330     0.255   0.080       0.2050         0.0895         0.0395   \n",
       "\n",
       "   ShellWeight  Rings  \n",
       "0        0.150     15  \n",
       "1        0.070      7  \n",
       "2        0.210      9  \n",
       "3        0.155     10  \n",
       "4        0.055      7  "
      ]
     },
     "execution_count": 3,
     "metadata": {},
     "output_type": "execute_result"
    }
   ],
   "source": [
    "data.head()"
   ]
  },
  {
   "cell_type": "code",
   "execution_count": 4,
   "metadata": {},
   "outputs": [],
   "source": [
    "data['Sex'] = data['Sex'].map(lambda x: 1 if x == 'M' else (-1 if x == 'F' else 0))"
   ]
  },
  {
   "cell_type": "code",
   "execution_count": 5,
   "metadata": {},
   "outputs": [],
   "source": [
    "X = data.iloc[:,:-1]\n",
    "y = data.iloc[:,-1]"
   ]
  },
  {
   "cell_type": "code",
   "execution_count": 6,
   "metadata": {},
   "outputs": [
    {
     "name": "stdout",
     "output_type": "stream",
     "text": [
      "number of trees=  1 avg_score=  0.10213869487724367\n",
      "number of trees=  2 avg_score=  0.33841675515802144\n",
      "number of trees=  3 avg_score=  0.4035798494618691\n",
      "number of trees=  4 avg_score=  0.44272239896668103\n",
      "number of trees=  5 avg_score=  0.4640207660674969\n",
      "number of trees=  6 avg_score=  0.4705816327587792\n",
      "number of trees=  7 avg_score=  0.4758306163523006\n",
      "number of trees=  8 avg_score=  0.4817418456255852\n",
      "number of trees=  9 avg_score=  0.4883478130215681\n",
      "number of trees=  10 avg_score=  0.49446412480247826\n",
      "number of trees=  11 avg_score=  0.4933965550001963\n",
      "number of trees=  12 avg_score=  0.4979658763976154\n",
      "number of trees=  13 avg_score=  0.5021364605722853\n",
      "number of trees=  14 avg_score=  0.5064286962257328\n",
      "number of trees=  15 avg_score=  0.5083311970432101\n",
      "number of trees=  16 avg_score=  0.5105131438322147\n",
      "number of trees=  17 avg_score=  0.5138482947993028\n",
      "number of trees=  18 avg_score=  0.5163275412739493\n",
      "number of trees=  19 avg_score=  0.519034688136388\n",
      "number of trees=  20 avg_score=  0.5186735928723822\n",
      "number of trees=  21 avg_score=  0.5198354233542501\n",
      "number of trees=  22 avg_score=  0.5201583536722211\n",
      "number of trees=  23 avg_score=  0.5210172709366251\n",
      "number of trees=  24 avg_score=  0.5224031825808091\n",
      "number of trees=  25 avg_score=  0.5226174639676071\n",
      "number of trees=  26 avg_score=  0.5238061581717052\n",
      "number of trees=  27 avg_score=  0.5241223522188981\n",
      "number of trees=  28 avg_score=  0.525053745123244\n",
      "number of trees=  29 avg_score=  0.5259703756348931\n",
      "number of trees=  30 avg_score=  0.5265378216675755\n",
      "number of trees=  31 avg_score=  0.5270998544306023\n",
      "number of trees=  32 avg_score=  0.5283894082092784\n",
      "number of trees=  33 avg_score=  0.5296165561229277\n",
      "number of trees=  34 avg_score=  0.5295639554438379\n",
      "number of trees=  35 avg_score=  0.529517247440473\n",
      "number of trees=  36 avg_score=  0.5295996267890184\n",
      "number of trees=  37 avg_score=  0.52913141344746\n",
      "number of trees=  38 avg_score=  0.5291602576334833\n",
      "number of trees=  39 avg_score=  0.5292409810274339\n",
      "number of trees=  40 avg_score=  0.529067015963163\n",
      "number of trees=  41 avg_score=  0.5293420056911183\n",
      "number of trees=  42 avg_score=  0.5295732065337546\n",
      "number of trees=  43 avg_score=  0.5293754946648532\n",
      "number of trees=  44 avg_score=  0.5291192337563251\n",
      "number of trees=  45 avg_score=  0.5283754660277202\n",
      "number of trees=  46 avg_score=  0.5285204275493458\n",
      "number of trees=  47 avg_score=  0.5287049445791908\n",
      "number of trees=  48 avg_score=  0.5296127515437734\n",
      "number of trees=  49 avg_score=  0.5303944554434498\n",
      "number of trees=  50 avg_score=  0.5305963435394535\n"
     ]
    }
   ],
   "source": [
    "cv = KFold(X.shape[0] ,n_folds=5, shuffle=True, random_state=1)\n",
    "for i in range(1, 51):\n",
    "    clf = RandomForestRegressor(n_estimators=i, random_state=1)\n",
    "    avg_score = 0\n",
    "    for train, test in cv:\n",
    "        clf.fit(X.iloc[train], y.iloc[train])\n",
    "        avg_score += r2_score(y.iloc[test], clf.predict(X.iloc[test]))\n",
    "        \n",
    "    print('number of trees= ', i, 'avg_score= ', avg_score / 5)"
   ]
  }
 ],
 "metadata": {
  "kernelspec": {
   "display_name": "Python 3",
   "language": "python",
   "name": "python3"
  },
  "language_info": {
   "codemirror_mode": {
    "name": "ipython",
    "version": 3
   },
   "file_extension": ".py",
   "mimetype": "text/x-python",
   "name": "python",
   "nbconvert_exporter": "python",
   "pygments_lexer": "ipython3",
   "version": "3.7.0"
  }
 },
 "nbformat": 4,
 "nbformat_minor": 2
}
