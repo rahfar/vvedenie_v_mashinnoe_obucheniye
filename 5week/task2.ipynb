{
 "cells": [
  {
   "cell_type": "code",
   "execution_count": 24,
   "metadata": {},
   "outputs": [],
   "source": [
    "import pandas as pd\n",
    "import numpy as np\n",
    "from sklearn.ensemble import RandomForestClassifier\n",
    "from sklearn.ensemble import GradientBoostingClassifier\n",
    "from sklearn.model_selection import train_test_split\n",
    "from sklearn.metrics import log_loss\n",
    "import matplotlib.pyplot as plt\n"
   ]
  },
  {
   "cell_type": "code",
   "execution_count": 2,
   "metadata": {},
   "outputs": [],
   "source": [
    "df = pd.read_csv(\"gbm-data.csv\")\n",
    "a = df.values"
   ]
  },
  {
   "cell_type": "code",
   "execution_count": 9,
   "metadata": {},
   "outputs": [],
   "source": [
    "X_train, X_test, y_train, y_test = train_test_split(a[:,1:], a[:,0], test_size=0.8, random_state=241)"
   ]
  },
  {
   "cell_type": "code",
   "execution_count": null,
   "metadata": {},
   "outputs": [],
   "source": [
    "for lr in [1, 0.5, 0.3, 0.2, 0.1]:\n",
    "    gbc = GradientBoostingClassifier(\n",
    "        learning_rate=lr, n_estimators=250, verbose=False, random_state=241\n",
    "    )\n",
    "    gbc.fit(X_train, y_train)\n",
    "\n",
    "    train_logloss = []\n",
    "    for y_pred in gbc.staged_decision_function(X_train):\n",
    "        train_logloss.append(log_loss(y_train, (1 / (1 + np.exp(-y_pred)))))\n",
    "\n",
    "    test_logloss = []\n",
    "    for y_pred in gbc.staged_decision_function(X_test):\n",
    "        test_logloss.append(log_loss(y_test, (1 / (1 + np.exp(-y_pred)))))\n",
    "\n",
    "    print(\n",
    "        f\"{lr=} | min test logloss: {min(test_logloss)} {test_logloss.index(min(test_logloss))}\"\n",
    "    )\n",
    "\n",
    "    plt.figure(figsize=(10, 5))  # Set the figure size\n",
    "    plt.plot(\n",
    "        np.arange(0, len(train_logloss)),\n",
    "        train_logloss,\n",
    "        label=\"train\",\n",
    "        color=\"blue\",\n",
    "    )\n",
    "    plt.plot(\n",
    "        np.arange(0, len(test_logloss)),\n",
    "        test_logloss,\n",
    "        label=\"test\",\n",
    "        color=\"red\",\n",
    "    )\n",
    "    plt.legend()\n",
    "    plt.title(f\"lr={lr}\")\n",
    "    plt.grid()\n",
    "    plt.show()\n"
   ]
  },
  {
   "cell_type": "code",
   "execution_count": null,
   "metadata": {},
   "outputs": [],
   "source": [
    "rfc = RandomForestClassifier(n_estimators=36, random_state=241)\n",
    "rfc.fit(X_train, y_train)\n",
    "y_pred = rfc.predict_proba(X_test)\n",
    "print(log_loss(y_test, y_pred))\n"
   ]
  }
 ],
 "metadata": {
  "kernelspec": {
   "display_name": "Python 3",
   "language": "python",
   "name": "python3"
  },
  "language_info": {
   "codemirror_mode": {
    "name": "ipython",
    "version": 3
   },
   "file_extension": ".py",
   "mimetype": "text/x-python",
   "name": "python",
   "nbconvert_exporter": "python",
   "pygments_lexer": "ipython3",
   "version": "3.10.12"
  }
 },
 "nbformat": 4,
 "nbformat_minor": 2
}
