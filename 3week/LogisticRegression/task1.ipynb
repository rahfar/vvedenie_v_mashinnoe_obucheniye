{
 "cells": [
  {
   "cell_type": "code",
   "execution_count": 6,
   "metadata": {},
   "outputs": [],
   "source": [
    "import numpy as np\n",
    "import pandas as pd\n",
    "import sklearn, sklearn.metrics\n",
    "from math import exp, sqrt"
   ]
  },
  {
   "cell_type": "code",
   "execution_count": 2,
   "metadata": {},
   "outputs": [],
   "source": [
    "df = pd.read_csv('data-logistic.csv', header=None)"
   ]
  },
  {
   "cell_type": "code",
   "execution_count": 11,
   "metadata": {},
   "outputs": [
    {
     "data": {
      "text/html": [
       "<div>\n",
       "<style scoped>\n",
       "    .dataframe tbody tr th:only-of-type {\n",
       "        vertical-align: middle;\n",
       "    }\n",
       "\n",
       "    .dataframe tbody tr th {\n",
       "        vertical-align: top;\n",
       "    }\n",
       "\n",
       "    .dataframe thead th {\n",
       "        text-align: right;\n",
       "    }\n",
       "</style>\n",
       "<table border=\"1\" class=\"dataframe\">\n",
       "  <thead>\n",
       "    <tr style=\"text-align: right;\">\n",
       "      <th></th>\n",
       "      <th>0</th>\n",
       "      <th>1</th>\n",
       "      <th>2</th>\n",
       "    </tr>\n",
       "  </thead>\n",
       "  <tbody>\n",
       "    <tr>\n",
       "      <th>0</th>\n",
       "      <td>-1</td>\n",
       "      <td>-0.663827</td>\n",
       "      <td>-0.138526</td>\n",
       "    </tr>\n",
       "    <tr>\n",
       "      <th>1</th>\n",
       "      <td>1</td>\n",
       "      <td>1.994596</td>\n",
       "      <td>2.468025</td>\n",
       "    </tr>\n",
       "    <tr>\n",
       "      <th>2</th>\n",
       "      <td>-1</td>\n",
       "      <td>-1.247395</td>\n",
       "      <td>0.749425</td>\n",
       "    </tr>\n",
       "    <tr>\n",
       "      <th>3</th>\n",
       "      <td>1</td>\n",
       "      <td>2.309374</td>\n",
       "      <td>1.899836</td>\n",
       "    </tr>\n",
       "    <tr>\n",
       "      <th>4</th>\n",
       "      <td>1</td>\n",
       "      <td>0.849143</td>\n",
       "      <td>2.407750</td>\n",
       "    </tr>\n",
       "  </tbody>\n",
       "</table>\n",
       "</div>"
      ],
      "text/plain": [
       "   0         1         2\n",
       "0 -1 -0.663827 -0.138526\n",
       "1  1  1.994596  2.468025\n",
       "2 -1 -1.247395  0.749425\n",
       "3  1  2.309374  1.899836\n",
       "4  1  0.849143  2.407750"
      ]
     },
     "execution_count": 11,
     "metadata": {},
     "output_type": "execute_result"
    }
   ],
   "source": [
    "df.head()"
   ]
  },
  {
   "cell_type": "code",
   "execution_count": 3,
   "metadata": {},
   "outputs": [],
   "source": [
    "y = df[0].copy()"
   ]
  },
  {
   "cell_type": "code",
   "execution_count": 4,
   "metadata": {},
   "outputs": [],
   "source": [
    "X = df[[1,2]].copy()"
   ]
  },
  {
   "cell_type": "code",
   "execution_count": 5,
   "metadata": {},
   "outputs": [
    {
     "data": {
      "text/html": [
       "<div>\n",
       "<style scoped>\n",
       "    .dataframe tbody tr th:only-of-type {\n",
       "        vertical-align: middle;\n",
       "    }\n",
       "\n",
       "    .dataframe tbody tr th {\n",
       "        vertical-align: top;\n",
       "    }\n",
       "\n",
       "    .dataframe thead th {\n",
       "        text-align: right;\n",
       "    }\n",
       "</style>\n",
       "<table border=\"1\" class=\"dataframe\">\n",
       "  <thead>\n",
       "    <tr style=\"text-align: right;\">\n",
       "      <th></th>\n",
       "      <th>1</th>\n",
       "      <th>2</th>\n",
       "    </tr>\n",
       "  </thead>\n",
       "  <tbody>\n",
       "    <tr>\n",
       "      <th>0</th>\n",
       "      <td>-0.663827</td>\n",
       "      <td>-0.138526</td>\n",
       "    </tr>\n",
       "    <tr>\n",
       "      <th>1</th>\n",
       "      <td>1.994596</td>\n",
       "      <td>2.468025</td>\n",
       "    </tr>\n",
       "    <tr>\n",
       "      <th>2</th>\n",
       "      <td>-1.247395</td>\n",
       "      <td>0.749425</td>\n",
       "    </tr>\n",
       "    <tr>\n",
       "      <th>3</th>\n",
       "      <td>2.309374</td>\n",
       "      <td>1.899836</td>\n",
       "    </tr>\n",
       "    <tr>\n",
       "      <th>4</th>\n",
       "      <td>0.849143</td>\n",
       "      <td>2.407750</td>\n",
       "    </tr>\n",
       "  </tbody>\n",
       "</table>\n",
       "</div>"
      ],
      "text/plain": [
       "          1         2\n",
       "0 -0.663827 -0.138526\n",
       "1  1.994596  2.468025\n",
       "2 -1.247395  0.749425\n",
       "3  2.309374  1.899836\n",
       "4  0.849143  2.407750"
      ]
     },
     "execution_count": 5,
     "metadata": {},
     "output_type": "execute_result"
    }
   ],
   "source": [
    "X.head()"
   ]
  },
  {
   "cell_type": "code",
   "execution_count": 15,
   "metadata": {},
   "outputs": [],
   "source": [
    "def distance(vec1, vec2):\n",
    "    # print(vec1, vec2)\n",
    "    return sqrt((vec1[0] - vec2[0])**2 + (vec1[1] - vec2[1])**2)"
   ]
  },
  {
   "cell_type": "code",
   "execution_count": 22,
   "metadata": {},
   "outputs": [
    {
     "name": "stdout",
     "output_type": "stream",
     "text": [
      "l= 205 k= 0.1\n",
      "[0.2878116204717764, 0.09198330215925439]\n",
      "243\n"
     ]
    }
   ],
   "source": [
    "k = 0.1\n",
    "l = len(y)\n",
    "print('l=', l, 'k=', k)\n",
    "\n",
    "w_old =[0, 0]\n",
    "w_new = [0, 0]\n",
    "\n",
    "for i in range(10000):\n",
    "    summ1 = 0\n",
    "    summ2 = 0\n",
    "    for j in range(l):\n",
    "        summ1 += y[j] * X[1].iloc[j] * (1 - 1 / (1 + exp(-y[j]*(w_old[0]*X[1].iloc[j] + w_old[1]*X[2].iloc[j]))))\n",
    "        summ2 += y[j] * X[2].iloc[j] * (1 - 1 / (1 + exp(-y[j]*(w_old[0]*X[1].iloc[j] + w_old[1]*X[2].iloc[j]))))\n",
    "    # print('summ1=', summ1, 'summ2=', summ2)\n",
    "    w_new[0] = w_old[0] + k / l * summ1\n",
    "    w_new[1] = w_old[1] + k / l * summ2\n",
    "    # print(w_new[0])\n",
    "    if distance(w_new, w_old) < 10**(-5):\n",
    "        print(w_new)\n",
    "        break\n",
    "    w_old = w_new.copy()\n",
    "print(i)"
   ]
  },
  {
   "cell_type": "code",
   "execution_count": 20,
   "metadata": {},
   "outputs": [],
   "source": [
    "first_answer = w_new"
   ]
  },
  {
   "cell_type": "code",
   "execution_count": 21,
   "metadata": {},
   "outputs": [
    {
     "data": {
      "text/plain": [
       "[0.2878116204717764, 0.09198330215925439]"
      ]
     },
     "execution_count": 21,
     "metadata": {},
     "output_type": "execute_result"
    }
   ],
   "source": [
    "first_answer"
   ]
  },
  {
   "cell_type": "code",
   "execution_count": 40,
   "metadata": {},
   "outputs": [],
   "source": [
    "def foo(x1, x2):\n",
    "    w1 = 0.2878116204717764\n",
    "    w2 = 0.09198330215925439\n",
    "    return 1 / (1 + exp(-w1*x1 - w2*x2))"
   ]
  },
  {
   "cell_type": "code",
   "execution_count": 44,
   "metadata": {},
   "outputs": [],
   "source": [
    "probability = []\n",
    "for j in range(l):\n",
    "    probability.append(foo(X.iloc[j][1], X.iloc[j][2]))"
   ]
  },
  {
   "cell_type": "code",
   "execution_count": 46,
   "metadata": {},
   "outputs": [
    {
     "data": {
      "text/plain": [
       "0.9268571428571428"
      ]
     },
     "execution_count": 46,
     "metadata": {},
     "output_type": "execute_result"
    }
   ],
   "source": [
    "sklearn.metrics.roc_auc_score(y, probability)"
   ]
  },
  {
   "cell_type": "code",
   "execution_count": 47,
   "metadata": {},
   "outputs": [],
   "source": [
    "score_no_reg = 0.9268571428571428"
   ]
  },
  {
   "cell_type": "code",
   "execution_count": 48,
   "metadata": {},
   "outputs": [
    {
     "name": "stdout",
     "output_type": "stream",
     "text": [
      "l = 205 k = 0.1 C = 10\n",
      "[0.028558754546234223, 0.02478013724973556]\n",
      "7\n"
     ]
    }
   ],
   "source": [
    "k = 0.1\n",
    "l = len(y)\n",
    "C = 10\n",
    "print('l =', l, 'k =', k, 'C =', 10)\n",
    "\n",
    "w_old =[0, 0]\n",
    "w_new = [0, 0]\n",
    "\n",
    "for i in range(10000):\n",
    "    summ1 = 0\n",
    "    summ2 = 0\n",
    "    for j in range(l):\n",
    "        summ1 += y[j] * X[1].iloc[j] * (1 - 1 / (1 + exp(-y[j]*(w_old[0]*X[1].iloc[j] + w_old[1]*X[2].iloc[j]))))\n",
    "        summ2 += y[j] * X[2].iloc[j] * (1 - 1 / (1 + exp(-y[j]*(w_old[0]*X[1].iloc[j] + w_old[1]*X[2].iloc[j]))))\n",
    "    # print('summ1=', summ1, 'summ2=', summ2)\n",
    "    w_new[0] = w_old[0] + k / l * summ1 - k * C * w_old[0]\n",
    "    w_new[1] = w_old[1] + k / l * summ2 - k * C * w_old[1]\n",
    "    # print(w_new[0])\n",
    "    if distance(w_new, w_old) < 10**(-5):\n",
    "        print(w_new)\n",
    "        break\n",
    "    w_old = w_new.copy()\n",
    "print(i)"
   ]
  },
  {
   "cell_type": "code",
   "execution_count": 49,
   "metadata": {},
   "outputs": [],
   "source": [
    "def foo1(x1, x2):\n",
    "    w1 = 0.028558754546234223\n",
    "    w2 = 0.02478013724973556\n",
    "    return 1 / (1 + exp(-w1*x1 - w2*x2))"
   ]
  },
  {
   "cell_type": "code",
   "execution_count": 50,
   "metadata": {},
   "outputs": [],
   "source": [
    "probability1 = []\n",
    "for j in range(l):\n",
    "    probability1.append(foo1(X.iloc[j][1], X.iloc[j][2]))"
   ]
  },
  {
   "cell_type": "code",
   "execution_count": 51,
   "metadata": {},
   "outputs": [
    {
     "data": {
      "text/plain": [
       "0.9362857142857142"
      ]
     },
     "execution_count": 51,
     "metadata": {},
     "output_type": "execute_result"
    }
   ],
   "source": [
    "sklearn.metrics.roc_auc_score(y, probability1)"
   ]
  },
  {
   "cell_type": "code",
   "execution_count": null,
   "metadata": {},
   "outputs": [],
   "source": []
  }
 ],
 "metadata": {
  "kernelspec": {
   "display_name": "Python 3",
   "language": "python",
   "name": "python3"
  },
  "language_info": {
   "codemirror_mode": {
    "name": "ipython",
    "version": 3
   },
   "file_extension": ".py",
   "mimetype": "text/x-python",
   "name": "python",
   "nbconvert_exporter": "python",
   "pygments_lexer": "ipython3",
   "version": "3.6.1"
  }
 },
 "nbformat": 4,
 "nbformat_minor": 2
}
