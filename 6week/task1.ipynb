{
 "cells": [
  {
   "cell_type": "code",
   "execution_count": 1,
   "metadata": {},
   "outputs": [],
   "source": [
    "from sklearn.cluster import KMeans\n",
    "from skimage.io import imread\n",
    "from skimage import img_as_float\n",
    "from skimage.metrics import peak_signal_noise_ratio\n",
    "import pandas as pd\n",
    "import pylab"
   ]
  },
  {
   "cell_type": "code",
   "execution_count": 2,
   "metadata": {},
   "outputs": [],
   "source": [
    "image = img_as_float(imread(\"parrots_4.jpg\"))"
   ]
  },
  {
   "cell_type": "code",
   "execution_count": null,
   "metadata": {},
   "outputs": [],
   "source": [
    "pylab.imshow(image)"
   ]
  },
  {
   "cell_type": "code",
   "execution_count": 4,
   "metadata": {},
   "outputs": [],
   "source": [
    "X = image.reshape(-1, 3)"
   ]
  },
  {
   "cell_type": "code",
   "execution_count": null,
   "metadata": {},
   "outputs": [],
   "source": [
    "for n_clusters in range(2, 20):\n",
    "    km = KMeans(n_clusters=n_clusters, init=\"k-means++\", random_state=241)\n",
    "    km.fit(X)\n",
    "    clusters = km.predict(X)\n",
    "    df = pd.DataFrame(X, columns=[\"R\", \"G\", \"B\"])\n",
    "    df[\"cluster\"] = clusters\n",
    "    df_median = df.groupby(\"cluster\").median()\n",
    "    df_mean = df.groupby(\"cluster\").mean()\n",
    "    df = df.join(df_median, on=\"cluster\", rsuffix=\"_median\")\n",
    "    df = df.join(df_mean, on=\"cluster\", rsuffix=\"_mean\")\n",
    "\n",
    "    m1 = peak_signal_noise_ratio(\n",
    "            df[[\"R\", \"G\", \"B\"]].values, df[[\"R_median\", \"G_median\", \"B_median\"]].values\n",
    "        )\n",
    "    m2 = peak_signal_noise_ratio(\n",
    "            df[[\"R\", \"G\", \"B\"]].values, df[[\"R_mean\", \"G_mean\", \"B_mean\"]].values\n",
    "        )\n",
    "    if m1 >= 20 or m2 >= 20:\n",
    "        print(n_clusters, m1, m2)\n",
    "        break"
   ]
  },
  {
   "cell_type": "code",
   "execution_count": null,
   "metadata": {},
   "outputs": [],
   "source": [
    "pylab.imshow(df[[\"R_mean\", \"G_mean\", \"B_mean\"]].values.reshape(image.shape))"
   ]
  }
 ],
 "metadata": {
  "kernelspec": {
   "display_name": ".venv",
   "language": "python",
   "name": "python3"
  },
  "language_info": {
   "codemirror_mode": {
    "name": "ipython",
    "version": 3
   },
   "file_extension": ".py",
   "mimetype": "text/x-python",
   "name": "python",
   "nbconvert_exporter": "python",
   "pygments_lexer": "ipython3",
   "version": "3.10.12"
  }
 },
 "nbformat": 4,
 "nbformat_minor": 2
}
